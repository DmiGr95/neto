{
 "cells": [
  {
   "cell_type": "code",
   "execution_count": 1,
   "id": "181d6987",
   "metadata": {},
   "outputs": [],
   "source": [
    "import pandas as pd\n",
    "import numpy as np\n",
    "import matplotlib.pyplot as plt\n",
    "import seaborn as sns\n",
    "from scipy.stats import ttest_ind\n",
    "from sklearn.model_selection import train_test_split \n",
    "from sklearn.discriminant_analysis import LinearDiscriminantAnalysis\n",
    "from sklearn.metrics import accuracy_score"
   ]
  },
  {
   "cell_type": "markdown",
   "id": "dafa9c72",
   "metadata": {},
   "source": [
    "# колонки\n",
    "\n",
    "1. satisfaction_level - Уровень удовлетворенности работой\n",
    "2. Last_evaluation - Время с момента последней оценки в годах\n",
    "3. number_projects - Количество проектов, выполненных за время работы\n",
    "4. average_monthly_hours - Среднее количество часов на рабочем месте в месяц\n",
    "5. time_spend_company - Стаж работы в компании в годах\n",
    "6. work_accident - Происходили ли несчастные случаи на рабочем месте с сотрудником\n",
    "7. left - уволился ли сотрудник\n",
    "8. promotion_last_5years - повышался ли сотрудник за последние пять лет\n",
    "9. department - отдел в котором работает сотрудник\n",
    "10. salary - относительный уровень зарплаты"
   ]
  },
  {
   "cell_type": "code",
   "execution_count": 2,
   "id": "1cd05c63",
   "metadata": {},
   "outputs": [],
   "source": [
    "df = pd.read_csv(r'C:\\Users\\User\\Desktop\\Курсы аналитика\\файл дз - Итог\\HR.csv')"
   ]
  },
  {
   "cell_type": "code",
   "execution_count": 3,
   "id": "e85acf2b",
   "metadata": {},
   "outputs": [
    {
     "data": {
      "text/html": [
       "<div>\n",
       "<style scoped>\n",
       "    .dataframe tbody tr th:only-of-type {\n",
       "        vertical-align: middle;\n",
       "    }\n",
       "\n",
       "    .dataframe tbody tr th {\n",
       "        vertical-align: top;\n",
       "    }\n",
       "\n",
       "    .dataframe thead th {\n",
       "        text-align: right;\n",
       "    }\n",
       "</style>\n",
       "<table border=\"1\" class=\"dataframe\">\n",
       "  <thead>\n",
       "    <tr style=\"text-align: right;\">\n",
       "      <th></th>\n",
       "      <th>satisfaction_level</th>\n",
       "      <th>last_evaluation</th>\n",
       "      <th>number_project</th>\n",
       "      <th>average_montly_hours</th>\n",
       "      <th>time_spend_company</th>\n",
       "      <th>Work_accident</th>\n",
       "      <th>left</th>\n",
       "      <th>promotion_last_5years</th>\n",
       "      <th>department</th>\n",
       "      <th>salary</th>\n",
       "    </tr>\n",
       "  </thead>\n",
       "  <tbody>\n",
       "    <tr>\n",
       "      <th>0</th>\n",
       "      <td>0.38</td>\n",
       "      <td>0.53</td>\n",
       "      <td>2</td>\n",
       "      <td>157</td>\n",
       "      <td>3</td>\n",
       "      <td>0</td>\n",
       "      <td>1</td>\n",
       "      <td>0</td>\n",
       "      <td>sales</td>\n",
       "      <td>low</td>\n",
       "    </tr>\n",
       "    <tr>\n",
       "      <th>1</th>\n",
       "      <td>0.80</td>\n",
       "      <td>0.86</td>\n",
       "      <td>5</td>\n",
       "      <td>262</td>\n",
       "      <td>6</td>\n",
       "      <td>0</td>\n",
       "      <td>1</td>\n",
       "      <td>0</td>\n",
       "      <td>sales</td>\n",
       "      <td>medium</td>\n",
       "    </tr>\n",
       "    <tr>\n",
       "      <th>2</th>\n",
       "      <td>0.11</td>\n",
       "      <td>0.88</td>\n",
       "      <td>7</td>\n",
       "      <td>272</td>\n",
       "      <td>4</td>\n",
       "      <td>0</td>\n",
       "      <td>1</td>\n",
       "      <td>0</td>\n",
       "      <td>sales</td>\n",
       "      <td>medium</td>\n",
       "    </tr>\n",
       "    <tr>\n",
       "      <th>3</th>\n",
       "      <td>0.72</td>\n",
       "      <td>0.87</td>\n",
       "      <td>5</td>\n",
       "      <td>223</td>\n",
       "      <td>5</td>\n",
       "      <td>0</td>\n",
       "      <td>1</td>\n",
       "      <td>0</td>\n",
       "      <td>sales</td>\n",
       "      <td>low</td>\n",
       "    </tr>\n",
       "    <tr>\n",
       "      <th>4</th>\n",
       "      <td>0.37</td>\n",
       "      <td>0.52</td>\n",
       "      <td>2</td>\n",
       "      <td>159</td>\n",
       "      <td>3</td>\n",
       "      <td>0</td>\n",
       "      <td>1</td>\n",
       "      <td>0</td>\n",
       "      <td>sales</td>\n",
       "      <td>low</td>\n",
       "    </tr>\n",
       "    <tr>\n",
       "      <th>...</th>\n",
       "      <td>...</td>\n",
       "      <td>...</td>\n",
       "      <td>...</td>\n",
       "      <td>...</td>\n",
       "      <td>...</td>\n",
       "      <td>...</td>\n",
       "      <td>...</td>\n",
       "      <td>...</td>\n",
       "      <td>...</td>\n",
       "      <td>...</td>\n",
       "    </tr>\n",
       "    <tr>\n",
       "      <th>14994</th>\n",
       "      <td>0.40</td>\n",
       "      <td>0.57</td>\n",
       "      <td>2</td>\n",
       "      <td>151</td>\n",
       "      <td>3</td>\n",
       "      <td>0</td>\n",
       "      <td>1</td>\n",
       "      <td>0</td>\n",
       "      <td>support</td>\n",
       "      <td>low</td>\n",
       "    </tr>\n",
       "    <tr>\n",
       "      <th>14995</th>\n",
       "      <td>0.37</td>\n",
       "      <td>0.48</td>\n",
       "      <td>2</td>\n",
       "      <td>160</td>\n",
       "      <td>3</td>\n",
       "      <td>0</td>\n",
       "      <td>1</td>\n",
       "      <td>0</td>\n",
       "      <td>support</td>\n",
       "      <td>low</td>\n",
       "    </tr>\n",
       "    <tr>\n",
       "      <th>14996</th>\n",
       "      <td>0.37</td>\n",
       "      <td>0.53</td>\n",
       "      <td>2</td>\n",
       "      <td>143</td>\n",
       "      <td>3</td>\n",
       "      <td>0</td>\n",
       "      <td>1</td>\n",
       "      <td>0</td>\n",
       "      <td>support</td>\n",
       "      <td>low</td>\n",
       "    </tr>\n",
       "    <tr>\n",
       "      <th>14997</th>\n",
       "      <td>0.11</td>\n",
       "      <td>0.96</td>\n",
       "      <td>6</td>\n",
       "      <td>280</td>\n",
       "      <td>4</td>\n",
       "      <td>0</td>\n",
       "      <td>1</td>\n",
       "      <td>0</td>\n",
       "      <td>support</td>\n",
       "      <td>low</td>\n",
       "    </tr>\n",
       "    <tr>\n",
       "      <th>14998</th>\n",
       "      <td>0.37</td>\n",
       "      <td>0.52</td>\n",
       "      <td>2</td>\n",
       "      <td>158</td>\n",
       "      <td>3</td>\n",
       "      <td>0</td>\n",
       "      <td>1</td>\n",
       "      <td>0</td>\n",
       "      <td>support</td>\n",
       "      <td>low</td>\n",
       "    </tr>\n",
       "  </tbody>\n",
       "</table>\n",
       "<p>14999 rows × 10 columns</p>\n",
       "</div>"
      ],
      "text/plain": [
       "       satisfaction_level  last_evaluation  number_project  \\\n",
       "0                    0.38             0.53               2   \n",
       "1                    0.80             0.86               5   \n",
       "2                    0.11             0.88               7   \n",
       "3                    0.72             0.87               5   \n",
       "4                    0.37             0.52               2   \n",
       "...                   ...              ...             ...   \n",
       "14994                0.40             0.57               2   \n",
       "14995                0.37             0.48               2   \n",
       "14996                0.37             0.53               2   \n",
       "14997                0.11             0.96               6   \n",
       "14998                0.37             0.52               2   \n",
       "\n",
       "       average_montly_hours  time_spend_company  Work_accident  left  \\\n",
       "0                       157                   3              0     1   \n",
       "1                       262                   6              0     1   \n",
       "2                       272                   4              0     1   \n",
       "3                       223                   5              0     1   \n",
       "4                       159                   3              0     1   \n",
       "...                     ...                 ...            ...   ...   \n",
       "14994                   151                   3              0     1   \n",
       "14995                   160                   3              0     1   \n",
       "14996                   143                   3              0     1   \n",
       "14997                   280                   4              0     1   \n",
       "14998                   158                   3              0     1   \n",
       "\n",
       "       promotion_last_5years department  salary  \n",
       "0                          0      sales     low  \n",
       "1                          0      sales  medium  \n",
       "2                          0      sales  medium  \n",
       "3                          0      sales     low  \n",
       "4                          0      sales     low  \n",
       "...                      ...        ...     ...  \n",
       "14994                      0    support     low  \n",
       "14995                      0    support     low  \n",
       "14996                      0    support     low  \n",
       "14997                      0    support     low  \n",
       "14998                      0    support     low  \n",
       "\n",
       "[14999 rows x 10 columns]"
      ]
     },
     "execution_count": 3,
     "metadata": {},
     "output_type": "execute_result"
    }
   ],
   "source": [
    "df"
   ]
  },
  {
   "cell_type": "markdown",
   "id": "9a27a65e",
   "metadata": {},
   "source": [
    "#### 1) Рассчитайте основные статистики для переменных (среднее,медиана,мода,мин/макс,сред.отклонение)."
   ]
  },
  {
   "cell_type": "code",
   "execution_count": 4,
   "id": "8df1953a",
   "metadata": {},
   "outputs": [
    {
     "data": {
      "text/plain": [
       "satisfaction_level       float64\n",
       "last_evaluation          float64\n",
       "number_project             int64\n",
       "average_montly_hours       int64\n",
       "time_spend_company         int64\n",
       "Work_accident              int64\n",
       "left                       int64\n",
       "promotion_last_5years      int64\n",
       "department                object\n",
       "salary                    object\n",
       "dtype: object"
      ]
     },
     "execution_count": 4,
     "metadata": {},
     "output_type": "execute_result"
    }
   ],
   "source": [
    "df.dtypes"
   ]
  },
  {
   "cell_type": "code",
   "execution_count": 5,
   "id": "5c4be725",
   "metadata": {},
   "outputs": [],
   "source": [
    "stats_for_df = df.describe().loc[['mean', '50%', 'min', 'max', 'std'],:]"
   ]
  },
  {
   "cell_type": "code",
   "execution_count": 6,
   "id": "cb1d7dca",
   "metadata": {},
   "outputs": [],
   "source": [
    "new_ind = list(stats_for_df.index) + ['mode']"
   ]
  },
  {
   "cell_type": "code",
   "execution_count": 7,
   "id": "8b0e856b",
   "metadata": {},
   "outputs": [],
   "source": [
    "mode_str = {}\n",
    "for col in stats_for_df.columns:\n",
    "    mode_str[col] = df[col].mode()[0]"
   ]
  },
  {
   "cell_type": "code",
   "execution_count": 8,
   "id": "a20d25d3",
   "metadata": {},
   "outputs": [],
   "source": [
    "# mode_str"
   ]
  },
  {
   "cell_type": "code",
   "execution_count": 9,
   "id": "e4ae419f",
   "metadata": {},
   "outputs": [],
   "source": [
    "stats_for_df = stats_for_df.append(mode_str, ignore_index=True).copy()"
   ]
  },
  {
   "cell_type": "code",
   "execution_count": 10,
   "id": "198e5a09",
   "metadata": {},
   "outputs": [],
   "source": [
    "stats_for_df.index = new_ind"
   ]
  },
  {
   "cell_type": "code",
   "execution_count": 11,
   "id": "e80970bb",
   "metadata": {},
   "outputs": [
    {
     "data": {
      "text/html": [
       "<div>\n",
       "<style scoped>\n",
       "    .dataframe tbody tr th:only-of-type {\n",
       "        vertical-align: middle;\n",
       "    }\n",
       "\n",
       "    .dataframe tbody tr th {\n",
       "        vertical-align: top;\n",
       "    }\n",
       "\n",
       "    .dataframe thead th {\n",
       "        text-align: right;\n",
       "    }\n",
       "</style>\n",
       "<table border=\"1\" class=\"dataframe\">\n",
       "  <thead>\n",
       "    <tr style=\"text-align: right;\">\n",
       "      <th></th>\n",
       "      <th>satisfaction_level</th>\n",
       "      <th>last_evaluation</th>\n",
       "      <th>number_project</th>\n",
       "      <th>average_montly_hours</th>\n",
       "      <th>time_spend_company</th>\n",
       "      <th>Work_accident</th>\n",
       "      <th>left</th>\n",
       "      <th>promotion_last_5years</th>\n",
       "    </tr>\n",
       "  </thead>\n",
       "  <tbody>\n",
       "    <tr>\n",
       "      <th>mean</th>\n",
       "      <td>0.612834</td>\n",
       "      <td>0.716102</td>\n",
       "      <td>3.803054</td>\n",
       "      <td>201.050337</td>\n",
       "      <td>3.498233</td>\n",
       "      <td>0.144610</td>\n",
       "      <td>0.238083</td>\n",
       "      <td>0.021268</td>\n",
       "    </tr>\n",
       "    <tr>\n",
       "      <th>50%</th>\n",
       "      <td>0.640000</td>\n",
       "      <td>0.720000</td>\n",
       "      <td>4.000000</td>\n",
       "      <td>200.000000</td>\n",
       "      <td>3.000000</td>\n",
       "      <td>0.000000</td>\n",
       "      <td>0.000000</td>\n",
       "      <td>0.000000</td>\n",
       "    </tr>\n",
       "    <tr>\n",
       "      <th>min</th>\n",
       "      <td>0.090000</td>\n",
       "      <td>0.360000</td>\n",
       "      <td>2.000000</td>\n",
       "      <td>96.000000</td>\n",
       "      <td>2.000000</td>\n",
       "      <td>0.000000</td>\n",
       "      <td>0.000000</td>\n",
       "      <td>0.000000</td>\n",
       "    </tr>\n",
       "    <tr>\n",
       "      <th>max</th>\n",
       "      <td>1.000000</td>\n",
       "      <td>1.000000</td>\n",
       "      <td>7.000000</td>\n",
       "      <td>310.000000</td>\n",
       "      <td>10.000000</td>\n",
       "      <td>1.000000</td>\n",
       "      <td>1.000000</td>\n",
       "      <td>1.000000</td>\n",
       "    </tr>\n",
       "    <tr>\n",
       "      <th>std</th>\n",
       "      <td>0.248631</td>\n",
       "      <td>0.171169</td>\n",
       "      <td>1.232592</td>\n",
       "      <td>49.943099</td>\n",
       "      <td>1.460136</td>\n",
       "      <td>0.351719</td>\n",
       "      <td>0.425924</td>\n",
       "      <td>0.144281</td>\n",
       "    </tr>\n",
       "    <tr>\n",
       "      <th>mode</th>\n",
       "      <td>0.100000</td>\n",
       "      <td>0.550000</td>\n",
       "      <td>4.000000</td>\n",
       "      <td>135.000000</td>\n",
       "      <td>3.000000</td>\n",
       "      <td>0.000000</td>\n",
       "      <td>0.000000</td>\n",
       "      <td>0.000000</td>\n",
       "    </tr>\n",
       "  </tbody>\n",
       "</table>\n",
       "</div>"
      ],
      "text/plain": [
       "      satisfaction_level  last_evaluation  number_project  \\\n",
       "mean            0.612834         0.716102        3.803054   \n",
       "50%             0.640000         0.720000        4.000000   \n",
       "min             0.090000         0.360000        2.000000   \n",
       "max             1.000000         1.000000        7.000000   \n",
       "std             0.248631         0.171169        1.232592   \n",
       "mode            0.100000         0.550000        4.000000   \n",
       "\n",
       "      average_montly_hours  time_spend_company  Work_accident      left  \\\n",
       "mean            201.050337            3.498233       0.144610  0.238083   \n",
       "50%             200.000000            3.000000       0.000000  0.000000   \n",
       "min              96.000000            2.000000       0.000000  0.000000   \n",
       "max             310.000000           10.000000       1.000000  1.000000   \n",
       "std              49.943099            1.460136       0.351719  0.425924   \n",
       "mode            135.000000            3.000000       0.000000  0.000000   \n",
       "\n",
       "      promotion_last_5years  \n",
       "mean               0.021268  \n",
       "50%                0.000000  \n",
       "min                0.000000  \n",
       "max                1.000000  \n",
       "std                0.144281  \n",
       "mode               0.000000  "
      ]
     },
     "execution_count": 11,
     "metadata": {},
     "output_type": "execute_result"
    }
   ],
   "source": [
    "stats_for_df"
   ]
  },
  {
   "cell_type": "markdown",
   "id": "3a1366be",
   "metadata": {},
   "source": [
    "#### 2.1 Рассчитайте и визуализировать корреляционную матрицу для количественных переменных. \n",
    "#### 2.2 Определите две самые скоррелированные и две наименее скоррелированные переменные."
   ]
  },
  {
   "cell_type": "code",
   "execution_count": 12,
   "id": "8a940c4a",
   "metadata": {},
   "outputs": [
    {
     "name": "stdout",
     "output_type": "stream",
     "text": [
      "значений в колонке satisfaction_level - 92\n",
      "значений в колонке last_evaluation - 65\n",
      "значений в колонке number_project - 6\n",
      "значений в колонке average_montly_hours - 215\n",
      "значений в колонке time_spend_company - 8\n",
      "значений в колонке Work_accident - 2\n",
      "значений в колонке left - 2\n",
      "значений в колонке promotion_last_5years - 2\n",
      "значений в колонке department - 10\n",
      "значений в колонке salary - 3\n"
     ]
    }
   ],
   "source": [
    "for col in df:\n",
    "    print(f'значений в колонке {col} - {len(df[col].value_counts())}')"
   ]
  },
  {
   "cell_type": "code",
   "execution_count": 13,
   "id": "a6272d14",
   "metadata": {},
   "outputs": [],
   "source": [
    "# убираем категориальные фичи (возмем как <= 10 значений)\n",
    "\n",
    "df_for_corr = df.select_dtypes(exclude=['object']) \\\n",
    "                .drop(['Work_accident', 'left', 'promotion_last_5years', \n",
    "                       'number_project', 'time_spend_company'], axis=1).copy()"
   ]
  },
  {
   "cell_type": "code",
   "execution_count": 14,
   "id": "87d9eaa7",
   "metadata": {},
   "outputs": [
    {
     "data": {
      "text/html": [
       "<div>\n",
       "<style scoped>\n",
       "    .dataframe tbody tr th:only-of-type {\n",
       "        vertical-align: middle;\n",
       "    }\n",
       "\n",
       "    .dataframe tbody tr th {\n",
       "        vertical-align: top;\n",
       "    }\n",
       "\n",
       "    .dataframe thead th {\n",
       "        text-align: right;\n",
       "    }\n",
       "</style>\n",
       "<table border=\"1\" class=\"dataframe\">\n",
       "  <thead>\n",
       "    <tr style=\"text-align: right;\">\n",
       "      <th></th>\n",
       "      <th>satisfaction_level</th>\n",
       "      <th>last_evaluation</th>\n",
       "      <th>average_montly_hours</th>\n",
       "    </tr>\n",
       "  </thead>\n",
       "  <tbody>\n",
       "    <tr>\n",
       "      <th>0</th>\n",
       "      <td>0.38</td>\n",
       "      <td>0.53</td>\n",
       "      <td>157</td>\n",
       "    </tr>\n",
       "    <tr>\n",
       "      <th>1</th>\n",
       "      <td>0.80</td>\n",
       "      <td>0.86</td>\n",
       "      <td>262</td>\n",
       "    </tr>\n",
       "    <tr>\n",
       "      <th>2</th>\n",
       "      <td>0.11</td>\n",
       "      <td>0.88</td>\n",
       "      <td>272</td>\n",
       "    </tr>\n",
       "    <tr>\n",
       "      <th>3</th>\n",
       "      <td>0.72</td>\n",
       "      <td>0.87</td>\n",
       "      <td>223</td>\n",
       "    </tr>\n",
       "    <tr>\n",
       "      <th>4</th>\n",
       "      <td>0.37</td>\n",
       "      <td>0.52</td>\n",
       "      <td>159</td>\n",
       "    </tr>\n",
       "    <tr>\n",
       "      <th>...</th>\n",
       "      <td>...</td>\n",
       "      <td>...</td>\n",
       "      <td>...</td>\n",
       "    </tr>\n",
       "    <tr>\n",
       "      <th>14994</th>\n",
       "      <td>0.40</td>\n",
       "      <td>0.57</td>\n",
       "      <td>151</td>\n",
       "    </tr>\n",
       "    <tr>\n",
       "      <th>14995</th>\n",
       "      <td>0.37</td>\n",
       "      <td>0.48</td>\n",
       "      <td>160</td>\n",
       "    </tr>\n",
       "    <tr>\n",
       "      <th>14996</th>\n",
       "      <td>0.37</td>\n",
       "      <td>0.53</td>\n",
       "      <td>143</td>\n",
       "    </tr>\n",
       "    <tr>\n",
       "      <th>14997</th>\n",
       "      <td>0.11</td>\n",
       "      <td>0.96</td>\n",
       "      <td>280</td>\n",
       "    </tr>\n",
       "    <tr>\n",
       "      <th>14998</th>\n",
       "      <td>0.37</td>\n",
       "      <td>0.52</td>\n",
       "      <td>158</td>\n",
       "    </tr>\n",
       "  </tbody>\n",
       "</table>\n",
       "<p>14999 rows × 3 columns</p>\n",
       "</div>"
      ],
      "text/plain": [
       "       satisfaction_level  last_evaluation  average_montly_hours\n",
       "0                    0.38             0.53                   157\n",
       "1                    0.80             0.86                   262\n",
       "2                    0.11             0.88                   272\n",
       "3                    0.72             0.87                   223\n",
       "4                    0.37             0.52                   159\n",
       "...                   ...              ...                   ...\n",
       "14994                0.40             0.57                   151\n",
       "14995                0.37             0.48                   160\n",
       "14996                0.37             0.53                   143\n",
       "14997                0.11             0.96                   280\n",
       "14998                0.37             0.52                   158\n",
       "\n",
       "[14999 rows x 3 columns]"
      ]
     },
     "execution_count": 14,
     "metadata": {},
     "output_type": "execute_result"
    }
   ],
   "source": [
    "df_for_corr"
   ]
  },
  {
   "cell_type": "code",
   "execution_count": 15,
   "id": "95767a55",
   "metadata": {},
   "outputs": [
    {
     "data": {
      "text/html": [
       "<div>\n",
       "<style scoped>\n",
       "    .dataframe tbody tr th:only-of-type {\n",
       "        vertical-align: middle;\n",
       "    }\n",
       "\n",
       "    .dataframe tbody tr th {\n",
       "        vertical-align: top;\n",
       "    }\n",
       "\n",
       "    .dataframe thead th {\n",
       "        text-align: right;\n",
       "    }\n",
       "</style>\n",
       "<table border=\"1\" class=\"dataframe\">\n",
       "  <thead>\n",
       "    <tr style=\"text-align: right;\">\n",
       "      <th></th>\n",
       "      <th>satisfaction_level</th>\n",
       "      <th>last_evaluation</th>\n",
       "      <th>average_montly_hours</th>\n",
       "    </tr>\n",
       "  </thead>\n",
       "  <tbody>\n",
       "    <tr>\n",
       "      <th>satisfaction_level</th>\n",
       "      <td>1.000000</td>\n",
       "      <td>0.105021</td>\n",
       "      <td>-0.020048</td>\n",
       "    </tr>\n",
       "    <tr>\n",
       "      <th>last_evaluation</th>\n",
       "      <td>0.105021</td>\n",
       "      <td>1.000000</td>\n",
       "      <td>0.339742</td>\n",
       "    </tr>\n",
       "    <tr>\n",
       "      <th>average_montly_hours</th>\n",
       "      <td>-0.020048</td>\n",
       "      <td>0.339742</td>\n",
       "      <td>1.000000</td>\n",
       "    </tr>\n",
       "  </tbody>\n",
       "</table>\n",
       "</div>"
      ],
      "text/plain": [
       "                      satisfaction_level  last_evaluation  \\\n",
       "satisfaction_level              1.000000         0.105021   \n",
       "last_evaluation                 0.105021         1.000000   \n",
       "average_montly_hours           -0.020048         0.339742   \n",
       "\n",
       "                      average_montly_hours  \n",
       "satisfaction_level               -0.020048  \n",
       "last_evaluation                   0.339742  \n",
       "average_montly_hours              1.000000  "
      ]
     },
     "execution_count": 15,
     "metadata": {},
     "output_type": "execute_result"
    }
   ],
   "source": [
    "corr = df_for_corr.corr(); corr"
   ]
  },
  {
   "cell_type": "code",
   "execution_count": 16,
   "id": "b8618cb5",
   "metadata": {},
   "outputs": [
    {
     "data": {
      "text/html": [
       "<style  type=\"text/css\" >\n",
       "#T_95906_row0_col0,#T_95906_row1_col1,#T_95906_row2_col2{\n",
       "            background-color:  #b40426;\n",
       "            color:  #f1f1f1;\n",
       "        }#T_95906_row0_col1,#T_95906_row0_col2,#T_95906_row2_col0{\n",
       "            background-color:  #3b4cc0;\n",
       "            color:  #f1f1f1;\n",
       "        }#T_95906_row1_col0{\n",
       "            background-color:  #6180e9;\n",
       "            color:  #000000;\n",
       "        }#T_95906_row1_col2{\n",
       "            background-color:  #b1cbfc;\n",
       "            color:  #000000;\n",
       "        }#T_95906_row2_col1{\n",
       "            background-color:  #92b4fe;\n",
       "            color:  #000000;\n",
       "        }</style><table id=\"T_95906_\" ><thead>    <tr>        <th class=\"blank level0\" ></th>        <th class=\"col_heading level0 col0\" >satisfaction_level</th>        <th class=\"col_heading level0 col1\" >last_evaluation</th>        <th class=\"col_heading level0 col2\" >average_montly_hours</th>    </tr></thead><tbody>\n",
       "                <tr>\n",
       "                        <th id=\"T_95906_level0_row0\" class=\"row_heading level0 row0\" >satisfaction_level</th>\n",
       "                        <td id=\"T_95906_row0_col0\" class=\"data row0 col0\" >1.000000</td>\n",
       "                        <td id=\"T_95906_row0_col1\" class=\"data row0 col1\" >0.105021</td>\n",
       "                        <td id=\"T_95906_row0_col2\" class=\"data row0 col2\" >-0.020048</td>\n",
       "            </tr>\n",
       "            <tr>\n",
       "                        <th id=\"T_95906_level0_row1\" class=\"row_heading level0 row1\" >last_evaluation</th>\n",
       "                        <td id=\"T_95906_row1_col0\" class=\"data row1 col0\" >0.105021</td>\n",
       "                        <td id=\"T_95906_row1_col1\" class=\"data row1 col1\" >1.000000</td>\n",
       "                        <td id=\"T_95906_row1_col2\" class=\"data row1 col2\" >0.339742</td>\n",
       "            </tr>\n",
       "            <tr>\n",
       "                        <th id=\"T_95906_level0_row2\" class=\"row_heading level0 row2\" >average_montly_hours</th>\n",
       "                        <td id=\"T_95906_row2_col0\" class=\"data row2 col0\" >-0.020048</td>\n",
       "                        <td id=\"T_95906_row2_col1\" class=\"data row2 col1\" >0.339742</td>\n",
       "                        <td id=\"T_95906_row2_col2\" class=\"data row2 col2\" >1.000000</td>\n",
       "            </tr>\n",
       "    </tbody></table>"
      ],
      "text/plain": [
       "<pandas.io.formats.style.Styler at 0x168d73a98e0>"
      ]
     },
     "execution_count": 16,
     "metadata": {},
     "output_type": "execute_result"
    }
   ],
   "source": [
    "corr.style.background_gradient(cmap='coolwarm')"
   ]
  },
  {
   "cell_type": "code",
   "execution_count": 17,
   "id": "55b1335c",
   "metadata": {},
   "outputs": [
    {
     "data": {
      "text/plain": [
       "<seaborn.axisgrid.PairGrid at 0x168d74e9460>"
      ]
     },
     "execution_count": 17,
     "metadata": {},
     "output_type": "execute_result"
    },
    {
     "data": {
      "image/png": "[encoded data removed]",
      "text/plain": [
       "<Figure size 540x540 with 12 Axes>"
      ]
     },
     "metadata": {
      "needs_background": "light"
     },
     "output_type": "display_data"
    }
   ],
   "source": [
    "# Из за большого количества значений, возмем рандомные 5%\n",
    "\n",
    "sns.pairplot(df_for_corr.sample(n=750, random_state=42))"
   ]
  },
  {
   "cell_type": "code",
   "execution_count": 18,
   "id": "08449df6",
   "metadata": {},
   "outputs": [],
   "source": [
    "# Никаких корреляций не найдено, наибольший коэффициент корреляции для количественных переменных = 0.339742 \n",
    "# между временем в годах с последней оценки и средним количеством часов на рабочем месте в месяц"
   ]
  },
  {
   "cell_type": "markdown",
   "id": "9f1a10d3",
   "metadata": {},
   "source": [
    "#### 3. Рассчитайте сколько сотрудников работает в каждом департаменте."
   ]
  },
  {
   "cell_type": "code",
   "execution_count": 19,
   "id": "fca39e19",
   "metadata": {},
   "outputs": [
    {
     "data": {
      "text/plain": [
       "sales          4140\n",
       "technical      2720\n",
       "support        2229\n",
       "IT             1227\n",
       "product_mng     902\n",
       "marketing       858\n",
       "RandD           787\n",
       "accounting      767\n",
       "hr              739\n",
       "management      630\n",
       "Name: department, dtype: int64"
      ]
     },
     "execution_count": 19,
     "metadata": {},
     "output_type": "execute_result"
    }
   ],
   "source": [
    "# т.к. одна запись это 1 человек\n",
    "\n",
    "df.department.value_counts()"
   ]
  },
  {
   "cell_type": "markdown",
   "id": "71aa6114",
   "metadata": {},
   "source": [
    "#### 4. Показать распределение сотрудников по зарплатам."
   ]
  },
  {
   "cell_type": "code",
   "execution_count": 20,
   "id": "7e11cca9",
   "metadata": {},
   "outputs": [
    {
     "data": {
      "text/plain": [
       "<AxesSubplot:xlabel='salary', ylabel='count'>"
      ]
     },
     "execution_count": 20,
     "metadata": {},
     "output_type": "execute_result"
    },
    {
     "data": {
      "image/png": "[encoded data removed]",
      "text/plain": [
       "<Figure size 432x288 with 1 Axes>"
      ]
     },
     "metadata": {
      "needs_background": "light"
     },
     "output_type": "display_data"
    }
   ],
   "source": [
    "sns.countplot(x=\"salary\", data=df)"
   ]
  },
  {
   "cell_type": "markdown",
   "id": "ed7206ff",
   "metadata": {},
   "source": [
    "#### 5. Показать распределение сотрудников по зарплатам в каждом департаменте по отдельности"
   ]
  },
  {
   "cell_type": "code",
   "execution_count": 21,
   "id": "a0f63ad8",
   "metadata": {},
   "outputs": [
    {
     "data": {
      "text/plain": [
       "<AxesSubplot:xlabel='salary', ylabel='count'>"
      ]
     },
     "execution_count": 21,
     "metadata": {},
     "output_type": "execute_result"
    },
    {
     "data": {
      "image/png": "[encoded data removed]",
      "text/plain": [
       "<Figure size 1080x360 with 1 Axes>"
      ]
     },
     "metadata": {},
     "output_type": "display_data"
    }
   ],
   "source": [
    "sns.set(rc={\"figure.figsize\":(15, 5)})\n",
    "\n",
    "sns.countplot(x=\"salary\", data=df, hue='department')"
   ]
  },
  {
   "cell_type": "markdown",
   "id": "f6155a38",
   "metadata": {},
   "source": [
    "#### 6. Проверить гипотезу, что сотрудники с высоким окладом проводят на работе больше времени, чем сотрудники с низким окладом"
   ]
  },
  {
   "cell_type": "code",
   "execution_count": 22,
   "id": "f27f4a62",
   "metadata": {},
   "outputs": [],
   "source": [
    "df_low_salary_time = df.loc[df.salary == 'low', 'average_montly_hours']"
   ]
  },
  {
   "cell_type": "code",
   "execution_count": 23,
   "id": "b246fc6b",
   "metadata": {},
   "outputs": [],
   "source": [
    "df_high_salary_time = df.loc[df.salary == 'high', 'average_montly_hours']"
   ]
  },
  {
   "cell_type": "code",
   "execution_count": 24,
   "id": "c52a575c",
   "metadata": {},
   "outputs": [
    {
     "data": {
      "text/plain": [
       "<AxesSubplot:>"
      ]
     },
     "execution_count": 24,
     "metadata": {},
     "output_type": "execute_result"
    },
    {
     "data": {
      "image/png": "[encoded data removed]",
      "text/plain": [
       "<Figure size 1080x360 with 1 Axes>"
      ]
     },
     "metadata": {},
     "output_type": "display_data"
    }
   ],
   "source": [
    "df_low_salary_time.hist(bins = 40)\n",
    "df_high_salary_time.hist(bins = 40)"
   ]
  },
  {
   "cell_type": "code",
   "execution_count": 25,
   "id": "c0a070c4",
   "metadata": {},
   "outputs": [
    {
     "name": "stdout",
     "output_type": "stream",
     "text": [
      "t_statistic = 0.7288680398062308\n",
      "p_value = 0.4661023478267259\n"
     ]
    }
   ],
   "source": [
    "# Используем T-test Стьюдента\n",
    "\n",
    "print(f't_statistic = {ttest_ind(df_low_salary_time, df_high_salary_time)[0]}')\n",
    "print(f'p_value = {ttest_ind(df_low_salary_time, df_high_salary_time)[1]}')"
   ]
  },
  {
   "cell_type": "code",
   "execution_count": 26,
   "id": "3eb505a0",
   "metadata": {},
   "outputs": [],
   "source": [
    "# т.к. p_value > 0.05 ====> мы принимаем нулевую гипотезу о равенстве средних для выборок. \n",
    "# А значит богатые проводят НЕ больше времени на работе, чем бедные"
   ]
  },
  {
   "cell_type": "markdown",
   "id": "a42d0961",
   "metadata": {},
   "source": [
    "#### 7. Рассчитать следующие показатели среди уволившихся и не уволившихся сотрудников (по отдельности):\n",
    "#### - Доля сотрудников с повышением за последние 5 лет\n",
    "#### - Средняя степень удовлетворенности\n",
    "#### - Среднее количество проектов"
   ]
  },
  {
   "cell_type": "code",
   "execution_count": 27,
   "id": "7fc719b0",
   "metadata": {},
   "outputs": [],
   "source": [
    "left_prom = round(df.loc[(df.left == 1) & (df.promotion_last_5years == 1)].shape[0] / (df.left == 1).sum(), 3)\n",
    "dont_left_prom = round(df.loc[(df.left == 0) & (df.promotion_last_5years == 1)].shape[0] / (df.left == 0).sum(), 3)"
   ]
  },
  {
   "cell_type": "code",
   "execution_count": 28,
   "id": "170de92d",
   "metadata": {},
   "outputs": [],
   "source": [
    "X = df.groupby(by=['left'], as_index=False).agg({'satisfaction_level': 'mean', \n",
    "                                                 'number_project': 'mean'})"
   ]
  },
  {
   "cell_type": "code",
   "execution_count": 29,
   "id": "c00cd7bc",
   "metadata": {},
   "outputs": [
    {
     "name": "stdout",
     "output_type": "stream",
     "text": [
      "0.005 % - уволившиеся, которых повышали\n",
      "0.026 % - действующие, которых повышали\n",
      "0.44 % - уволившиеся, ср. удовлетворенность\n",
      "0.667 % - действующие, ср. удовлетворенность\n",
      "3.856 % - уволившиеся, ср. кол-во проектов\n",
      "3.787 % - действующие, ср. кол-во проектов\n"
     ]
    }
   ],
   "source": [
    "print(f'{left_prom} % - уволившиеся, которых повышали')\n",
    "print(f'{dont_left_prom} % - действующие, которых повышали')\n",
    "print(f'{round(X.loc[X.left == 1, \"satisfaction_level\"].values[0], 3)} % - уволившиеся, ср. удовлетворенность')\n",
    "print(f'{round(X.loc[X.left == 0, \"satisfaction_level\"].values[0], 3)} % - действующие, ср. удовлетворенность')\n",
    "print(f'{round(X.loc[X.left == 1, \"number_project\"].values[0], 3)} % - уволившиеся, ср. кол-во проектов')\n",
    "print(f'{round(X.loc[X.left == 0, \"number_project\"].values[0], 3)} % - действующие, ср. кол-во проектов')"
   ]
  },
  {
   "cell_type": "markdown",
   "id": "eae09cbf",
   "metadata": {},
   "source": [
    "#### 8. Разделить данные на тестовую и обучающую выборки. Построить модель LDA, предсказывающую уволился ли\n",
    "####     сотрудник на основе имеющихся факторов (кроме department и salary)\n",
    "####     Оценить качество модели на тестовой выборки"
   ]
  },
  {
   "cell_type": "code",
   "execution_count": 30,
   "id": "f06cc65f",
   "metadata": {},
   "outputs": [],
   "source": [
    "features_for_lda = df.drop(['department', 'salary', 'left'], axis=1).copy()"
   ]
  },
  {
   "cell_type": "code",
   "execution_count": 31,
   "id": "d8291f1b",
   "metadata": {},
   "outputs": [],
   "source": [
    "target_for_lda = df.left"
   ]
  },
  {
   "cell_type": "code",
   "execution_count": 32,
   "id": "24d66ab6",
   "metadata": {},
   "outputs": [],
   "source": [
    "X_train, X_test, y_train, y_test = train_test_split(features_for_lda, target_for_lda, test_size=0.15, random_state=42)"
   ]
  },
  {
   "cell_type": "code",
   "execution_count": 33,
   "id": "80ebe976",
   "metadata": {},
   "outputs": [
    {
     "name": "stdout",
     "output_type": "stream",
     "text": [
      "исходный размер - (14999, 10)\n",
      "фичи размер - (14999, 7)\n",
      "таргет размер - (14999,)\n",
      "трейн фичи размер - (12749, 7)\n",
      "тест фичи размер - (2250, 7)\n",
      "трейн таргет размер - (12749,)\n",
      "тест таргет размер - (2250,)\n"
     ]
    }
   ],
   "source": [
    "print(f'исходный размер - {df.shape}')\n",
    "print(f'фичи размер - {features_for_lda.shape}')\n",
    "print(f'таргет размер - {target_for_lda.shape}')\n",
    "print(f'трейн фичи размер - {X_train.shape}')\n",
    "print(f'тест фичи размер - {X_test.shape}')\n",
    "print(f'трейн таргет размер - {y_train.shape}')\n",
    "print(f'тест таргет размер - {y_test.shape}')"
   ]
  },
  {
   "cell_type": "code",
   "execution_count": 34,
   "id": "fe09af43",
   "metadata": {},
   "outputs": [],
   "source": [
    "lda = LinearDiscriminantAnalysis()"
   ]
  },
  {
   "cell_type": "code",
   "execution_count": 35,
   "id": "9c11c317",
   "metadata": {},
   "outputs": [
    {
     "data": {
      "text/plain": [
       "LinearDiscriminantAnalysis()"
      ]
     },
     "execution_count": 35,
     "metadata": {},
     "output_type": "execute_result"
    }
   ],
   "source": [
    "lda.fit(X_train, y_train)"
   ]
  },
  {
   "cell_type": "code",
   "execution_count": 36,
   "id": "4dc6f055",
   "metadata": {},
   "outputs": [],
   "source": [
    "y_pred = lda.predict(X_test)"
   ]
  },
  {
   "cell_type": "code",
   "execution_count": 37,
   "id": "2bd4423c",
   "metadata": {},
   "outputs": [
    {
     "name": "stdout",
     "output_type": "stream",
     "text": [
      "уровень качества модели по accuracy_score = 74.8 %\n"
     ]
    }
   ],
   "source": [
    "# уровень точности на тестовой выборке примерно 75%\n",
    "\n",
    "print(f'уровень качества модели по accuracy_score = {round(accuracy_score(y_test, y_pred), 3) * 100} %')"
   ]
  },
  {
   "cell_type": "code",
   "execution_count": 38,
   "id": "674f6241",
   "metadata": {},
   "outputs": [],
   "source": [
    "# Загрузить jupyter notebook с решением на github и прислать ссылку"
   ]
  },
  {
   "cell_type": "code",
   "execution_count": null,
   "id": "aef4f02e",
   "metadata": {},
   "outputs": [],
   "source": []
  },
  {
   "cell_type": "code",
   "execution_count": null,
   "id": "4d92c51f",
   "metadata": {},
   "outputs": [],
   "source": []
  },
  {
   "cell_type": "code",
   "execution_count": null,
   "id": "5c7f49f8",
   "metadata": {},
   "outputs": [],
   "source": []
  },
  {
   "cell_type": "code",
   "execution_count": null,
   "id": "a6ee8c3b",
   "metadata": {},
   "outputs": [],
   "source": []
  },
  {
   "cell_type": "code",
   "execution_count": null,
   "id": "26cfcdfd",
   "metadata": {},
   "outputs": [],
   "source": []
  }
 ],
 "metadata": {
  "kernelspec": {
   "display_name": "Python 3",
   "language": "python",
   "name": "python3"
  },
  "language_info": {
   "codemirror_mode": {
    "name": "ipython",
    "version": 3
   },
   "file_extension": ".py",
   "mimetype": "text/x-python",
   "name": "python",
   "nbconvert_exporter": "python",
   "pygments_lexer": "ipython3",
   "version": "3.8.8"
  }
 },
 "nbformat": 4,
 "nbformat_minor": 5
}
